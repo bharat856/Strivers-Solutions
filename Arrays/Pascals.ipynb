{
 "cells": [
  {
   "cell_type": "markdown",
   "id": "13fd1870",
   "metadata": {},
   "source": [
    "### Pascals"
   ]
  },
  {
   "cell_type": "code",
   "execution_count": 21,
   "id": "f4f69cf9",
   "metadata": {},
   "outputs": [
    {
     "name": "stdout",
     "output_type": "stream",
     "text": [
      "[1, 1]\n",
      "[1, 2, 1]\n",
      "[1, 3, 3, 1]\n",
      "[1, 4, 6, 4, 1]\n",
      "[[1], [1, 1], [1, 2, 1], [1, 3, 3, 1], [1, 4, 6, 4, 1]]\n"
     ]
    }
   ],
   "source": [
    "output=[]\n",
    "for i in range(5):\n",
    "    #print(i)\n",
    "    if(i == 0):\n",
    "        prev = [1]\n",
    "        output.append(prev)\n",
    "    else:\n",
    "        curr = [1]\n",
    "        j = 1\n",
    "        while(j < i):\n",
    "            curr.append(prev[j-1] + prev[j])\n",
    "            #print(curr)\n",
    "            j+=1\n",
    "        curr.append(1)\n",
    "        output.append(curr)\n",
    "        print(curr)\n",
    "        prev = curr\n",
    "print(output)"
   ]
  },
  {
   "cell_type": "code",
   "execution_count": 4,
   "id": "f7ce4b50",
   "metadata": {},
   "outputs": [
    {
     "data": {
      "text/plain": [
       "False"
      ]
     },
     "execution_count": 4,
     "metadata": {},
     "output_type": "execute_result"
    }
   ],
   "source": [
    "1<1"
   ]
  },
  {
   "cell_type": "code",
   "execution_count": 22,
   "id": "ae0d4229",
   "metadata": {},
   "outputs": [
    {
     "name": "stdout",
     "output_type": "stream",
     "text": [
      "2\n"
     ]
    }
   ],
   "source": [
    "prev=[1,1]\n",
    "print(prev[0]+prev[1])"
   ]
  },
  {
   "cell_type": "code",
   "execution_count": 23,
   "id": "b21cf584",
   "metadata": {},
   "outputs": [
    {
     "name": "stdout",
     "output_type": "stream",
     "text": [
      "[1, 1, 2]\n"
     ]
    }
   ],
   "source": [
    "prev.append(prev[0]+prev[1])\n",
    "print(prev)"
   ]
  },
  {
   "cell_type": "code",
   "execution_count": null,
   "id": "c601e243",
   "metadata": {},
   "outputs": [],
   "source": []
  }
 ],
 "metadata": {
  "kernelspec": {
   "display_name": "Python 3 (ipykernel)",
   "language": "python",
   "name": "python3"
  },
  "language_info": {
   "codemirror_mode": {
    "name": "ipython",
    "version": 3
   },
   "file_extension": ".py",
   "mimetype": "text/x-python",
   "name": "python",
   "nbconvert_exporter": "python",
   "pygments_lexer": "ipython3",
   "version": "3.10.9"
  }
 },
 "nbformat": 4,
 "nbformat_minor": 5
}
