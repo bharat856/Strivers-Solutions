{
 "cells": [
  {
   "cell_type": "markdown",
   "id": "773d2e8d",
   "metadata": {},
   "source": [
    "### Next Permutation\n"
   ]
  },
  {
   "cell_type": "code",
   "execution_count": 1,
   "id": "48d9e961",
   "metadata": {},
   "outputs": [],
   "source": [
    "n=[1,2,3]\n"
   ]
  },
  {
   "cell_type": "code",
   "execution_count": 3,
   "id": "dd11d229",
   "metadata": {},
   "outputs": [],
   "source": [
    "x=len(n)"
   ]
  },
  {
   "cell_type": "code",
   "execution_count": null,
   "id": "ee937664",
   "metadata": {},
   "outputs": [],
   "source": [
    "for i in range(len(n)):\n",
    "    if n[i]"
   ]
  },
  {
   "cell_type": "code",
   "execution_count": null,
   "id": "b3ccf197",
   "metadata": {},
   "outputs": [],
   "source": [
    "class Solution:\n",
    "    def reverse(self, nums, start, stop):\n",
    "        size = stop + start\n",
    "        for i in range(start, (size + 1) // 2):\n",
    "            nums[i], nums[size - i] = nums[size - i], nums[i]\n",
    "    \n",
    "    def nextPermutation(self, nums: List[int]) -> None:\n",
    "        ind = -1\n",
    "        # find breakpoint from back\n",
    "        for i in range(len(nums)-2, -1, -1):\n",
    "            if nums[i] < nums[i+1]:\n",
    "                ind = i     # breakpoint found\n",
    "                break\n",
    "        if ind == -1:   # no breakpoint found\n",
    "            nums.reverse()  # in-place\n",
    "            # nums[:] = nums[::-1] # also works but is not in-place\n",
    "        else:\n",
    "            for i in range(len(nums)-1, ind, -1):\n",
    "                if nums[i] > nums[ind]:\n",
    "                    nums[i], nums[ind] = nums[ind], nums[i]\n",
    "                    break\n",
    "            \n",
    "            # reverse list elements on the right of breakpoint\n",
    "            self.reverse(nums, ind+1, len(nums)-1) # in-place\n",
    "            # nums[ind+1:] = nums[ind+1:][::-1] # also works but is not in-place"
   ]
  },
  {
   "cell_type": "markdown",
   "id": "066cbc3a",
   "metadata": {},
   "source": [
    "### code I understood"
   ]
  },
  {
   "cell_type": "code",
   "execution_count": null,
   "id": "807b2064",
   "metadata": {},
   "outputs": [],
   "source": [
    "class Solution(object):\n",
    "    def nextPermutation(self, nums):\n",
    "        for i in range(len(nums)-1, 0, -1):\n",
    "            # find the index of the last peak\n",
    "            if nums[i - 1] < nums[i]:\n",
    "                nums[i:] = sorted(nums[i:])\n",
    "                \n",
    "                # get the index before the last peak\n",
    "                j = i - 1\n",
    "                \n",
    "                # swap the pre-last peak index with the value just large than it\n",
    "                for k in range(i, len(nums)):\n",
    "                    if nums[j] < nums[k]:\n",
    "                        nums[k], nums[j] = nums[j], nums[k]\n",
    "                        return nums\n",
    "        return nums.reverse()"
   ]
  }
 ],
 "metadata": {
  "kernelspec": {
   "display_name": "Python 3 (ipykernel)",
   "language": "python",
   "name": "python3"
  },
  "language_info": {
   "codemirror_mode": {
    "name": "ipython",
    "version": 3
   },
   "file_extension": ".py",
   "mimetype": "text/x-python",
   "name": "python",
   "nbconvert_exporter": "python",
   "pygments_lexer": "ipython3",
   "version": "3.10.9"
  }
 },
 "nbformat": 4,
 "nbformat_minor": 5
}
