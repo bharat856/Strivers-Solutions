{
 "cells": [
  {
   "cell_type": "code",
   "execution_count": null,
   "id": "f5506894",
   "metadata": {},
   "outputs": [],
   "source": [
    "class Solution(object):\n",
    "    def sortColors(self, nums):\n",
    "        for i in range(len(nums)):\n",
    "            for j in range(len(nums)-1):\n",
    "                if(nums[i]<nums[j]):\n",
    "                    temp=nums[i]\n",
    "                    nums[i]=nums[j]\n",
    "                    nums[j]=temp\n"
   ]
  }
 ],
 "metadata": {
  "kernelspec": {
   "display_name": "Python 3 (ipykernel)",
   "language": "python",
   "name": "python3"
  },
  "language_info": {
   "codemirror_mode": {
    "name": "ipython",
    "version": 3
   },
   "file_extension": ".py",
   "mimetype": "text/x-python",
   "name": "python",
   "nbconvert_exporter": "python",
   "pygments_lexer": "ipython3",
   "version": "3.10.9"
  }
 },
 "nbformat": 4,
 "nbformat_minor": 5
}
