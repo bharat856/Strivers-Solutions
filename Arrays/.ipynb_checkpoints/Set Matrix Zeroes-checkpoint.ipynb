{
 "cells": [
  {
   "cell_type": "markdown",
   "id": "0076a740",
   "metadata": {},
   "source": [
    "### Given an m x n integer matrix matrix, if an element is 0, set its entire row and column to 0's."
   ]
  },
  {
   "cell_type": "code",
   "execution_count": 1,
   "id": "8bb439aa",
   "metadata": {},
   "outputs": [],
   "source": [
    "class Solution(object):\n",
    "    def setZeroes(self, matrix):\n",
    "        row = len(matrix)\n",
    "        col = len(matrix[0])\n",
    "        dummyRow = [-1] * row\n",
    "        dummyCol = [-1] * col\n",
    "        for i in range(row):\n",
    "            for j in range(col):\n",
    "                if matrix[i][j] == 0:\n",
    "                    dummyRow[i] = 0\n",
    "                    dummyCol[j] = 0\n",
    "        for i in range(row):\n",
    "            for j in range(col):\n",
    "                if dummyRow[i] == 0 or dummyCol[j] == 0:\n",
    "                    matrix[i][j] = 0"
   ]
  },
  {
   "cell_type": "code",
   "execution_count": null,
   "id": "b55ab1e5",
   "metadata": {},
   "outputs": [],
   "source": []
  }
 ],
 "metadata": {
  "kernelspec": {
   "display_name": "Python 3 (ipykernel)",
   "language": "python",
   "name": "python3"
  },
  "language_info": {
   "codemirror_mode": {
    "name": "ipython",
    "version": 3
   },
   "file_extension": ".py",
   "mimetype": "text/x-python",
   "name": "python",
   "nbconvert_exporter": "python",
   "pygments_lexer": "ipython3",
   "version": "3.10.9"
  }
 },
 "nbformat": 4,
 "nbformat_minor": 5
}
